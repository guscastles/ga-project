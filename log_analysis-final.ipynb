{
 "cells": [
  {
   "cell_type": "markdown",
   "metadata": {},
   "source": [
    "# Googlebot log file analysis\n",
    "by [@tomdonohoe](https://au.linkedin.com/in/tomdonohoe)\n",
    "\n",
    "This report provides analysis on the Search section server log files of allhomes.com.au web property for the month of July 2019."
   ]
  },
  {
   "cell_type": "markdown",
   "metadata": {},
   "source": [
    "## The dataset\n",
    "\n",
    "The dataset includes 4,497,422 and 6 columns:\n",
    "\n",
    "- **date:** date of the request.\n",
    "- **client_ip:** the ip address of requesting client.\n",
    "- **http_status_code:** the HTTP status code response of the request.\n",
    "- **user_agent:** the user agent of the request.\n",
    "- **path:** the url path that was requested."
   ]
  },
  {
   "cell_type": "markdown",
   "metadata": {},
   "source": [
    "## Read and clean dataset"
   ]
  },
  {
   "cell_type": "markdown",
   "metadata": {},
   "source": [
    "First the dataset must be put into a DataFrame and cleaned up for analysis."
   ]
  },
  {
   "cell_type": "markdown",
   "metadata": {},
   "source": [
    "### import the required packages"
   ]
  },
  {
   "cell_type": "code",
   "execution_count": 51,
   "metadata": {},
   "outputs": [],
   "source": [
    "import helper_funcs as hf\n",
    "import pandas as pd\n",
    "import numpy as np\n",
    "import matplotlib as plt\n",
    "%matplotlib inline "
   ]
  },
  {
   "cell_type": "markdown",
   "metadata": {},
   "source": [
    "Set CSV location as variable"
   ]
  },
  {
   "cell_type": "code",
   "execution_count": 52,
   "metadata": {},
   "outputs": [],
   "source": [
    "log_file_csv = 'data/processed_log_file.csv'"
   ]
  },
  {
   "cell_type": "markdown",
   "metadata": {},
   "source": [
    "Read the CSV into a DataFrame"
   ]
  },
  {
   "cell_type": "code",
   "execution_count": 53,
   "metadata": {},
   "outputs": [],
   "source": [
    "raw_logs = pd.read_csv(log_file_csv)"
   ]
  },
  {
   "cell_type": "markdown",
   "metadata": {},
   "source": [
    "### Basic exploration"
   ]
  },
  {
   "cell_type": "markdown",
   "metadata": {},
   "source": [
    "Take a quick look to get a feel for the data."
   ]
  },
  {
   "cell_type": "code",
   "execution_count": 54,
   "metadata": {},
   "outputs": [
    {
     "data": {
      "text/html": [
       "<div>\n",
       "<style scoped>\n",
       "    .dataframe tbody tr th:only-of-type {\n",
       "        vertical-align: middle;\n",
       "    }\n",
       "\n",
       "    .dataframe tbody tr th {\n",
       "        vertical-align: top;\n",
       "    }\n",
       "\n",
       "    .dataframe thead th {\n",
       "        text-align: right;\n",
       "    }\n",
       "</style>\n",
       "<table border=\"1\" class=\"dataframe\">\n",
       "  <thead>\n",
       "    <tr style=\"text-align: right;\">\n",
       "      <th></th>\n",
       "      <th>DATE</th>\n",
       "      <th>CLIENT_IP</th>\n",
       "      <th>HTTP_STATUS_CODE</th>\n",
       "      <th>USER_AGENT</th>\n",
       "      <th>PATH</th>\n",
       "      <th>is_verified_googlebot</th>\n",
       "    </tr>\n",
       "  </thead>\n",
       "  <tbody>\n",
       "    <tr>\n",
       "      <th>0</th>\n",
       "      <td>2019-07-02 00:00:00</td>\n",
       "      <td>66.249.79.145</td>\n",
       "      <td>200</td>\n",
       "      <td>Mozilla/5.0 (Linux; Android 6.0.1; Nexus 5X Bu...</td>\n",
       "      <td>/rent/turvey-park-nsw-2650/</td>\n",
       "      <td>True</td>\n",
       "    </tr>\n",
       "    <tr>\n",
       "      <th>1</th>\n",
       "      <td>2019-07-02 00:00:00</td>\n",
       "      <td>66.249.79.137</td>\n",
       "      <td>200</td>\n",
       "      <td>Mozilla/5.0 (Linux; Android 6.0.1; Nexus 5X Bu...</td>\n",
       "      <td>/share/tanunda-sa-5352/</td>\n",
       "      <td>True</td>\n",
       "    </tr>\n",
       "    <tr>\n",
       "      <th>2</th>\n",
       "      <td>2019-07-02 00:00:00</td>\n",
       "      <td>66.249.79.158</td>\n",
       "      <td>200</td>\n",
       "      <td>Mozilla/5.0 (Linux; Android 6.0.1; Nexus 5X Bu...</td>\n",
       "      <td>/sale/strathfieldsaye-vic-3551/</td>\n",
       "      <td>True</td>\n",
       "    </tr>\n",
       "    <tr>\n",
       "      <th>3</th>\n",
       "      <td>2019-07-02 00:00:00</td>\n",
       "      <td>66.249.79.131</td>\n",
       "      <td>200</td>\n",
       "      <td>Mozilla/5.0 (Linux; Android 6.0.1; Nexus 5X Bu...</td>\n",
       "      <td>/rent/glenore-grove-qld-4342/</td>\n",
       "      <td>True</td>\n",
       "    </tr>\n",
       "    <tr>\n",
       "      <th>4</th>\n",
       "      <td>2019-07-02 00:00:00</td>\n",
       "      <td>66.249.79.145</td>\n",
       "      <td>200</td>\n",
       "      <td>Mozilla/5.0 (Linux; Android 6.0.1; Nexus 5X Bu...</td>\n",
       "      <td>/sale/bullsbrook-wa-6084/</td>\n",
       "      <td>True</td>\n",
       "    </tr>\n",
       "  </tbody>\n",
       "</table>\n",
       "</div>"
      ],
      "text/plain": [
       "                  DATE      CLIENT_IP  HTTP_STATUS_CODE  \\\n",
       "0  2019-07-02 00:00:00  66.249.79.145               200   \n",
       "1  2019-07-02 00:00:00  66.249.79.137               200   \n",
       "2  2019-07-02 00:00:00  66.249.79.158               200   \n",
       "3  2019-07-02 00:00:00  66.249.79.131               200   \n",
       "4  2019-07-02 00:00:00  66.249.79.145               200   \n",
       "\n",
       "                                          USER_AGENT  \\\n",
       "0  Mozilla/5.0 (Linux; Android 6.0.1; Nexus 5X Bu...   \n",
       "1  Mozilla/5.0 (Linux; Android 6.0.1; Nexus 5X Bu...   \n",
       "2  Mozilla/5.0 (Linux; Android 6.0.1; Nexus 5X Bu...   \n",
       "3  Mozilla/5.0 (Linux; Android 6.0.1; Nexus 5X Bu...   \n",
       "4  Mozilla/5.0 (Linux; Android 6.0.1; Nexus 5X Bu...   \n",
       "\n",
       "                              PATH  is_verified_googlebot  \n",
       "0      /rent/turvey-park-nsw-2650/                   True  \n",
       "1          /share/tanunda-sa-5352/                   True  \n",
       "2  /sale/strathfieldsaye-vic-3551/                   True  \n",
       "3    /rent/glenore-grove-qld-4342/                   True  \n",
       "4        /sale/bullsbrook-wa-6084/                   True  "
      ]
     },
     "execution_count": 54,
     "metadata": {},
     "output_type": "execute_result"
    }
   ],
   "source": [
    "raw_logs.head()"
   ]
  },
  {
   "cell_type": "code",
   "execution_count": 55,
   "metadata": {},
   "outputs": [
    {
     "data": {
      "text/plain": [
       "(4497422, 6)"
      ]
     },
     "execution_count": 55,
     "metadata": {},
     "output_type": "execute_result"
    }
   ],
   "source": [
    "raw_logs.shape"
   ]
  },
  {
   "cell_type": "code",
   "execution_count": 56,
   "metadata": {},
   "outputs": [
    {
     "name": "stdout",
     "output_type": "stream",
     "text": [
      "<class 'pandas.core.frame.DataFrame'>\n",
      "RangeIndex: 4497422 entries, 0 to 4497421\n",
      "Data columns (total 6 columns):\n",
      "DATE                     object\n",
      "CLIENT_IP                object\n",
      "HTTP_STATUS_CODE         int64\n",
      "USER_AGENT               object\n",
      "PATH                     object\n",
      "is_verified_googlebot    bool\n",
      "dtypes: bool(1), int64(1), object(4)\n",
      "memory usage: 175.9+ MB\n"
     ]
    }
   ],
   "source": [
    "raw_logs.info()"
   ]
  },
  {
   "cell_type": "markdown",
   "metadata": {},
   "source": [
    "### Cleaning up the dataset for analysis\n",
    "\n",
    "The dataset needs to be cleaned a little before analysis."
   ]
  },
  {
   "cell_type": "markdown",
   "metadata": {},
   "source": [
    "Creating a new DataFrame to keep raw data intact."
   ]
  },
  {
   "cell_type": "code",
   "execution_count": 57,
   "metadata": {},
   "outputs": [],
   "source": [
    "processing_logs = raw_logs.copy()"
   ]
  },
  {
   "cell_type": "markdown",
   "metadata": {},
   "source": [
    "Transforming column names to be lowercase"
   ]
  },
  {
   "cell_type": "code",
   "execution_count": 58,
   "metadata": {},
   "outputs": [],
   "source": [
    "processing_logs.columns = map(str.lower, processing_logs.columns)"
   ]
  },
  {
   "cell_type": "markdown",
   "metadata": {},
   "source": [
    "Perform a reverse DNS lookup to check it's a real Googlebot request unless it's already been done."
   ]
  },
  {
   "cell_type": "code",
   "execution_count": 59,
   "metadata": {},
   "outputs": [],
   "source": [
    "if 'is_verified_googlebot' not in processing_logs.columns:\n",
    "    processing_logs['is_verified_googlebot'] = processing_logs['client_ip'].apply(hf.verify_googlebot)"
   ]
  },
  {
   "cell_type": "markdown",
   "metadata": {},
   "source": [
    "Parse the user agent string by type of Googlebot."
   ]
  },
  {
   "cell_type": "code",
   "execution_count": 60,
   "metadata": {},
   "outputs": [],
   "source": [
    "processing_logs['googlebot_user_agent'] = processing_logs['user_agent'].apply(hf.user_agent_lookup)"
   ]
  },
  {
   "cell_type": "markdown",
   "metadata": {},
   "source": [
    "**Tuple requirement** Parse the HTTP status code into the range it belongs to and Parse the HTTP status code by 200 or not 200."
   ]
  },
  {
   "cell_type": "code",
   "execution_count": 61,
   "metadata": {},
   "outputs": [],
   "source": [
    "processing_logs['http_tup'] = processing_logs['http_status_code'].apply(hf.http_status_main)\n",
    "processing_logs[['is_200', 'http_status_range']] = pd.DataFrame(processing_logs['http_tup'].tolist(), index=processing_logs.index)"
   ]
  },
  {
   "cell_type": "markdown",
   "metadata": {},
   "source": [
    "Split the URL on the first subfolder as a site section"
   ]
  },
  {
   "cell_type": "code",
   "execution_count": 62,
   "metadata": {},
   "outputs": [],
   "source": [
    "processing_logs['site_section'] = processing_logs['path'].str.split(\"/\").str[1]"
   ]
  },
  {
   "cell_type": "markdown",
   "metadata": {},
   "source": [
    "Parse the path if it has a query string or not"
   ]
  },
  {
   "cell_type": "code",
   "execution_count": 63,
   "metadata": {},
   "outputs": [],
   "source": [
    "processing_logs['is_parameter'] = processing_logs['path'].str.contains('\\\\?', case=False, regex=True )"
   ]
  },
  {
   "cell_type": "markdown",
   "metadata": {},
   "source": [
    "Extract the query string parameters from the path"
   ]
  },
  {
   "cell_type": "code",
   "execution_count": 64,
   "metadata": {},
   "outputs": [],
   "source": [
    "processing_logs['parameters'] = processing_logs['path'].apply(hf.get_parameters)"
   ]
  },
  {
   "cell_type": "markdown",
   "metadata": {},
   "source": [
    "**Class requirement** Add path to hostname to create a full URL"
   ]
  },
  {
   "cell_type": "code",
   "execution_count": 65,
   "metadata": {},
   "outputs": [],
   "source": [
    "class UrlGenerator:\n",
    "\n",
    "    def __init__(self, domain):\n",
    "        self.domain = domain\n",
    "    \n",
    "    def add_path(self, path):\n",
    "        return f'{self.domain}{path}'"
   ]
  },
  {
   "cell_type": "code",
   "execution_count": 66,
   "metadata": {},
   "outputs": [],
   "source": [
    "host = UrlGenerator('https://www.allhomes.com.au')"
   ]
  },
  {
   "cell_type": "code",
   "execution_count": 67,
   "metadata": {},
   "outputs": [],
   "source": [
    "processing_logs['full_url'] = processing_logs['path'].apply(host.add_path)"
   ]
  },
  {
   "cell_type": "markdown",
   "metadata": {},
   "source": [
    "Transform date column to datetime"
   ]
  },
  {
   "cell_type": "code",
   "execution_count": 101,
   "metadata": {},
   "outputs": [],
   "source": [
    "processing_logs['date'] = pd.to_datetime(processing_logs['date'])"
   ]
  },
  {
   "cell_type": "markdown",
   "metadata": {},
   "source": [
    "Create the new clean DataFrame for analysis. Also, remove the tuple column from DataFrame"
   ]
  },
  {
   "cell_type": "code",
   "execution_count": 103,
   "metadata": {},
   "outputs": [],
   "source": [
    "cleaned_logs = processing_logs.drop(['http_tup'], axis=1).copy()"
   ]
  },
  {
   "cell_type": "markdown",
   "metadata": {},
   "source": [
    "New cleaned DataFrame"
   ]
  },
  {
   "cell_type": "code",
   "execution_count": 108,
   "metadata": {},
   "outputs": [
    {
     "data": {
      "text/html": [
       "<div>\n",
       "<style scoped>\n",
       "    .dataframe tbody tr th:only-of-type {\n",
       "        vertical-align: middle;\n",
       "    }\n",
       "\n",
       "    .dataframe tbody tr th {\n",
       "        vertical-align: top;\n",
       "    }\n",
       "\n",
       "    .dataframe thead th {\n",
       "        text-align: right;\n",
       "    }\n",
       "</style>\n",
       "<table border=\"1\" class=\"dataframe\">\n",
       "  <thead>\n",
       "    <tr style=\"text-align: right;\">\n",
       "      <th></th>\n",
       "      <th>date</th>\n",
       "      <th>client_ip</th>\n",
       "      <th>http_status_code</th>\n",
       "      <th>user_agent</th>\n",
       "      <th>path</th>\n",
       "      <th>is_verified_googlebot</th>\n",
       "      <th>googlebot_user_agent</th>\n",
       "      <th>is_200</th>\n",
       "      <th>http_status_range</th>\n",
       "      <th>site_section</th>\n",
       "      <th>is_parameter</th>\n",
       "      <th>parameters</th>\n",
       "      <th>full_url</th>\n",
       "    </tr>\n",
       "  </thead>\n",
       "  <tbody>\n",
       "    <tr>\n",
       "      <th>10</th>\n",
       "      <td>2019-07-02</td>\n",
       "      <td>66.249.79.139</td>\n",
       "      <td>200</td>\n",
       "      <td>Mozilla/5.0 (Linux; Android 6.0.1; Nexus 5X Bu...</td>\n",
       "      <td>/rent/merima-nsw-2632/?propertytypes=house</td>\n",
       "      <td>True</td>\n",
       "      <td>Googlebot Smartphone</td>\n",
       "      <td>True</td>\n",
       "      <td>2xx</td>\n",
       "      <td>rent</td>\n",
       "      <td>True</td>\n",
       "      <td>propertytypes</td>\n",
       "      <td>https://www.allhomes.com.au/rent/merima-nsw-26...</td>\n",
       "    </tr>\n",
       "    <tr>\n",
       "      <th>25</th>\n",
       "      <td>2019-07-02</td>\n",
       "      <td>66.249.79.137</td>\n",
       "      <td>301</td>\n",
       "      <td>Mozilla/5.0 (Linux; Android 6.0.1; Nexus 5X Bu...</td>\n",
       "      <td>/svc/division-redirect/ah/vic/rent-residential...</td>\n",
       "      <td>True</td>\n",
       "      <td>Googlebot Smartphone</td>\n",
       "      <td>False</td>\n",
       "      <td>3xx</td>\n",
       "      <td>svc</td>\n",
       "      <td>True</td>\n",
       "      <td>propertytypes</td>\n",
       "      <td>https://www.allhomes.com.au/svc/division-redir...</td>\n",
       "    </tr>\n",
       "    <tr>\n",
       "      <th>63</th>\n",
       "      <td>2019-07-02</td>\n",
       "      <td>66.249.79.141</td>\n",
       "      <td>200</td>\n",
       "      <td>Mozilla/5.0 (Linux; Android 6.0.1; Nexus 5X Bu...</td>\n",
       "      <td>/rent/mannuem-qld-4610/?propertytypes=duplex,t...</td>\n",
       "      <td>True</td>\n",
       "      <td>Googlebot Smartphone</td>\n",
       "      <td>True</td>\n",
       "      <td>2xx</td>\n",
       "      <td>rent</td>\n",
       "      <td>True</td>\n",
       "      <td>propertytypes</td>\n",
       "      <td>https://www.allhomes.com.au/rent/mannuem-qld-4...</td>\n",
       "    </tr>\n",
       "    <tr>\n",
       "      <th>64</th>\n",
       "      <td>2019-07-02</td>\n",
       "      <td>66.249.79.147</td>\n",
       "      <td>200</td>\n",
       "      <td>Mozilla/5.0 (Linux; Android 6.0.1; Nexus 5X Bu...</td>\n",
       "      <td>/rent/woodleigh-vale-vic-3945/?propertytypes=h...</td>\n",
       "      <td>True</td>\n",
       "      <td>Googlebot Smartphone</td>\n",
       "      <td>True</td>\n",
       "      <td>2xx</td>\n",
       "      <td>rent</td>\n",
       "      <td>True</td>\n",
       "      <td>propertytypes</td>\n",
       "      <td>https://www.allhomes.com.au/rent/woodleigh-val...</td>\n",
       "    </tr>\n",
       "    <tr>\n",
       "      <th>68</th>\n",
       "      <td>2019-07-02</td>\n",
       "      <td>66.249.79.60</td>\n",
       "      <td>200</td>\n",
       "      <td>Mozilla/5.0 (Linux; Android 6.0.1; Nexus 5X Bu...</td>\n",
       "      <td>/rent/tipperary-nsw-2429/?propertytypes=house</td>\n",
       "      <td>True</td>\n",
       "      <td>Googlebot Smartphone</td>\n",
       "      <td>True</td>\n",
       "      <td>2xx</td>\n",
       "      <td>rent</td>\n",
       "      <td>True</td>\n",
       "      <td>propertytypes</td>\n",
       "      <td>https://www.allhomes.com.au/rent/tipperary-nsw...</td>\n",
       "    </tr>\n",
       "  </tbody>\n",
       "</table>\n",
       "</div>"
      ],
      "text/plain": [
       "         date      client_ip  http_status_code  \\\n",
       "10 2019-07-02  66.249.79.139               200   \n",
       "25 2019-07-02  66.249.79.137               301   \n",
       "63 2019-07-02  66.249.79.141               200   \n",
       "64 2019-07-02  66.249.79.147               200   \n",
       "68 2019-07-02   66.249.79.60               200   \n",
       "\n",
       "                                           user_agent  \\\n",
       "10  Mozilla/5.0 (Linux; Android 6.0.1; Nexus 5X Bu...   \n",
       "25  Mozilla/5.0 (Linux; Android 6.0.1; Nexus 5X Bu...   \n",
       "63  Mozilla/5.0 (Linux; Android 6.0.1; Nexus 5X Bu...   \n",
       "64  Mozilla/5.0 (Linux; Android 6.0.1; Nexus 5X Bu...   \n",
       "68  Mozilla/5.0 (Linux; Android 6.0.1; Nexus 5X Bu...   \n",
       "\n",
       "                                                 path  is_verified_googlebot  \\\n",
       "10         /rent/merima-nsw-2632/?propertytypes=house                   True   \n",
       "25  /svc/division-redirect/ah/vic/rent-residential...                   True   \n",
       "63  /rent/mannuem-qld-4610/?propertytypes=duplex,t...                   True   \n",
       "64  /rent/woodleigh-vale-vic-3945/?propertytypes=h...                   True   \n",
       "68      /rent/tipperary-nsw-2429/?propertytypes=house                   True   \n",
       "\n",
       "    googlebot_user_agent  is_200 http_status_range site_section  is_parameter  \\\n",
       "10  Googlebot Smartphone    True               2xx         rent          True   \n",
       "25  Googlebot Smartphone   False               3xx          svc          True   \n",
       "63  Googlebot Smartphone    True               2xx         rent          True   \n",
       "64  Googlebot Smartphone    True               2xx         rent          True   \n",
       "68  Googlebot Smartphone    True               2xx         rent          True   \n",
       "\n",
       "       parameters                                           full_url  \n",
       "10  propertytypes  https://www.allhomes.com.au/rent/merima-nsw-26...  \n",
       "25  propertytypes  https://www.allhomes.com.au/svc/division-redir...  \n",
       "63  propertytypes  https://www.allhomes.com.au/rent/mannuem-qld-4...  \n",
       "64  propertytypes  https://www.allhomes.com.au/rent/woodleigh-val...  \n",
       "68  propertytypes  https://www.allhomes.com.au/rent/tipperary-nsw...  "
      ]
     },
     "execution_count": 108,
     "metadata": {},
     "output_type": "execute_result"
    }
   ],
   "source": [
    "cleaned_logs[cleaned_logs['parameters'] == 'propertytypes'].head()"
   ]
  },
  {
   "cell_type": "markdown",
   "metadata": {},
   "source": [
    "## Exploratory data analysis with Visualisation\n",
    "\n",
    "The new clean table has 4,497,422 rows with 12 columns:\n",
    "\n",
    "Existing columns:\n",
    "\n",
    "- **date:** date of the request.\n",
    "- **client_ip:** the ip address of requesting client.\n",
    "- **http_status_code:** the HTTP status code response of the request.\n",
    "- **user_agent:** the user agent of the request.\n",
    "- **path:** the url path that was requested.\n",
    "\n",
    "New columns:\n",
    "\n",
    "- **is_verified_googlebot:** reverse DNS lookup to check if real Googlebot.\n",
    "- **googlebot_user_agent:** the name of bot from Google's documentation.\n",
    "- **site_section:** the first folder of the URL.\n",
    "- **http_status_range:** the http status range the response code falls under.\n",
    "- **is_200:** if it's a 200 code or not.\n",
    "- **is_parameter:** if the url contains query string or not.\n",
    "- **parameters:** the parameters in the query string concatenated."
   ]
  },
  {
   "cell_type": "markdown",
   "metadata": {},
   "source": [
    "### Daily Hits from Googlebot"
   ]
  },
  {
   "cell_type": "code",
   "execution_count": 105,
   "metadata": {},
   "outputs": [
    {
     "data": {
      "image/png": "[encoded data removed]",
      "text/plain": [
       "<Figure size 432x288 with 1 Axes>"
      ]
     },
     "metadata": {
      "needs_background": "light"
     },
     "output_type": "display_data"
    }
   ],
   "source": [
    "cleaned_logs['date'].dt.strftime('%d')\n",
    "_ = cleaned_logs.groupby('date').size().sort_index(ascending=False).plot()"
   ]
  },
  {
   "cell_type": "markdown",
   "metadata": {},
   "source": [
    "### Hits by Googlebot User Agent"
   ]
  },
  {
   "cell_type": "code",
   "execution_count": 88,
   "metadata": {},
   "outputs": [
    {
     "data": {
      "image/png": "[encoded data removed]",
      "text/plain": [
       "<Figure size 432x288 with 1 Axes>"
      ]
     },
     "metadata": {
      "needs_background": "light"
     },
     "output_type": "display_data"
    }
   ],
   "source": [
    "_ = cleaned_logs.groupby('googlebot_user_agent').size().sort_values(ascending=False).plot.bar()"
   ]
  },
  {
   "cell_type": "markdown",
   "metadata": {},
   "source": [
    "### Top 10 Hit Site Sections by Googlebot"
   ]
  },
  {
   "cell_type": "code",
   "execution_count": 85,
   "metadata": {},
   "outputs": [
    {
     "data": {
      "image/png": "[encoded data removed]",
      "text/plain": [
       "<Figure size 432x288 with 1 Axes>"
      ]
     },
     "metadata": {
      "needs_background": "light"
     },
     "output_type": "display_data"
    }
   ],
   "source": [
    "_ = cleaned_logs.groupby('site_section').size().sort_values(ascending=False).head(10).plot.bar()"
   ]
  },
  {
   "cell_type": "markdown",
   "metadata": {},
   "source": [
    "### Hits by HTTP status range"
   ]
  },
  {
   "cell_type": "code",
   "execution_count": 89,
   "metadata": {},
   "outputs": [
    {
     "data": {
      "image/png": "[encoded data removed]",
      "text/plain": [
       "<Figure size 432x288 with 1 Axes>"
      ]
     },
     "metadata": {
      "needs_background": "light"
     },
     "output_type": "display_data"
    }
   ],
   "source": [
    "_ = cleaned_logs.groupby('http_status_range').size().sort_values(ascending=False).plot.bar()"
   ]
  },
  {
   "cell_type": "markdown",
   "metadata": {},
   "source": [
    "### Real vs Fake Googlebot Hits"
   ]
  },
  {
   "cell_type": "code",
   "execution_count": 91,
   "metadata": {},
   "outputs": [
    {
     "data": {
      "image/png": "[encoded data removed]",
      "text/plain": [
       "<Figure size 432x288 with 1 Axes>"
      ]
     },
     "metadata": {
      "needs_background": "light"
     },
     "output_type": "display_data"
    }
   ],
   "source": [
    "_ = cleaned_logs.groupby('is_verified_googlebot').size().sort_values(ascending=False).plot.bar()"
   ]
  },
  {
   "cell_type": "markdown",
   "metadata": {},
   "source": [
    "### Parameter vs non-parameter hits"
   ]
  },
  {
   "cell_type": "code",
   "execution_count": 92,
   "metadata": {},
   "outputs": [
    {
     "data": {
      "image/png": "[encoded data removed]",
      "text/plain": [
       "<Figure size 432x288 with 1 Axes>"
      ]
     },
     "metadata": {
      "needs_background": "light"
     },
     "output_type": "display_data"
    }
   ],
   "source": [
    "_ = cleaned_logs.groupby('is_parameter').size().sort_values(ascending=False).plot.bar()"
   ]
  },
  {
   "cell_type": "markdown",
   "metadata": {},
   "source": [
    "### Top 10 parameters by Googlebot"
   ]
  },
  {
   "cell_type": "code",
   "execution_count": 93,
   "metadata": {},
   "outputs": [
    {
     "data": {
      "image/png": "[encoded data removed]",
      "text/plain": [
       "<Figure size 432x288 with 1 Axes>"
      ]
     },
     "metadata": {
      "needs_background": "light"
     },
     "output_type": "display_data"
    }
   ],
   "source": [
    "_ = cleaned_logs.groupby('parameters').size().sort_values(ascending=False).head(10).plot.bar()"
   ]
  }
 ],
 "metadata": {
  "kernelspec": {
   "display_name": "Python 3",
   "language": "python",
   "name": "python3"
  },
  "language_info": {
   "codemirror_mode": {
    "name": "ipython",
    "version": 3
   },
   "file_extension": ".py",
   "mimetype": "text/x-python",
   "name": "python",
   "nbconvert_exporter": "python",
   "pygments_lexer": "ipython3",
   "version": "3.7.4"
  }
 },
 "nbformat": 4,
 "nbformat_minor": 2
}
